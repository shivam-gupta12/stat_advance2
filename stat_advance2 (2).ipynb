{
 "cells": [
  {
   "cell_type": "markdown",
   "id": "74984f19-49a5-4be3-9b8e-f1d3837d6694",
   "metadata": {},
   "source": [
    "# question 1\n",
    "The Probability Density Function(PDF) defines the probability function representing the density of a continuous random variable lying between a specific range of values. In other words, the probability density function produces the likelihood of values of the continuous random variable. It is a type of probability distribution function . Example - we can draw pdf over heights or weights of a students in a class\n",
    "\n",
    "The Probability Mass Function (PMF) is also called a probability function or frequency function which characterizes the distribution of a discrete random variable. It is also a type of probability distribution function. Example - We can draw pmf over tossing a coin or throwing a dice."
   ]
  },
  {
   "cell_type": "markdown",
   "id": "57e69ee1-2746-4a1d-bc06-1eadf4066881",
   "metadata": {},
   "source": [
    "# question 2\n",
    "The cumulative distribution function (CDF) of random variable X is defined as FX(x) = P(X ≤ x), for all x ∈ R. Note that the subscript X indicates that this is the CDF of the random variable X. Also, note that the CDF is defined for all x ∈ R.\n",
    "The cumulative distribution function (CDF) calculates the cumulative probability for a given x-value. Use the CDF to determine the likelihood that a random observation taken from the population will be less than or equal to a particular value.\n",
    "Example - cdf for an event which is throwing a dice is found to be increasing in nature."
   ]
  },
  {
   "cell_type": "markdown",
   "id": "1ca662d2-0759-4a45-8ca3-a3139a74b188",
   "metadata": {},
   "source": [
    "# question 3\n",
    "Some examples of situations where the normal distribution might be used as a model are :-\n",
    "1. Heights data\n",
    "2. Rolling A Dice\n",
    "3. Technical Stock Market\n",
    "4. Blood Pressure etc...\n",
    "\n",
    "The shape of a normal distribution is determined by the mean and the standard deviation. The steeper the bell curve, the smaller the standard deviation. If the examples are spread far apart, the bell curve will be much flatter, meaning the standard deviation is large.\n",
    "\n"
   ]
  },
  {
   "cell_type": "markdown",
   "id": "3dfe9ed5-1dd7-4c62-8b65-25e6993baae9",
   "metadata": {},
   "source": [
    "# question 4\n",
    "The normal distribution is an important probability distribution in math and statistics because many continuous data in nature and psychology display this bell-shaped curve when compiled and graphed.Some examples of situations where the normal distribution is used are :-\n",
    "1. Heights data\n",
    "2. Rolling A Dice\n",
    "3. Technical Stock Market\n",
    "4. Blood Pressure etc...\n"
   ]
  },
  {
   "cell_type": "markdown",
   "id": "d3f466e8-ce58-44f7-924e-0f984f7ff73a",
   "metadata": {},
   "source": [
    "# question 5\n",
    "Bernoulli Distribution is a type of discrete probability distribution where every experiment conducted asks a question that can be answered only in yes or no. In other words, the random variable can be 1 with a probability p or it can be 0 with a probability (1 - p). Such an experiment is called a Bernoulli trial. A pass or fail exam can be modeled by a Bernoulli Distribution.\n",
    "\n",
    "Suppose there is an experiment where you flip a coin that is fair. If the outcome of the flip is heads then you will win. This means that the probability of getting heads is p = 1/2. If X is the random variable following a Bernoulli Distribution, we get P(X = 1) = p = 1/2.\n",
    "\n",
    "Bernoulli deals with the outcome of the single trial of the event, whereas Binomial deals with the outcome of the multiple trials of the single event.\n",
    "Bernoulli is used when the outcome of an event is required for only one time, whereas the Binomial is used when the outcome of an event is required multiple times. for Binomail distribution, Tossing a coin 7 times can be considered as an example."
   ]
  },
  {
   "cell_type": "markdown",
   "id": "8420b6d6-9a2c-4902-9db7-3278e53cf547",
   "metadata": {},
   "source": [
    "# question 6\n"
   ]
  },
  {
   "cell_type": "markdown",
   "id": "86ccc160-513f-4914-95a4-be3c1acdcd89",
   "metadata": {},
   "source": [
    "To calculate the probability that a randomly selected observation will be greater than 60, we need to standardize the observation using the standard normal distribution.\n",
    "\n",
    "We can use the formula z = (x - μ) / σ, where x is the value we want to standardize, μ is the mean of the dataset, and σ is the standard deviation of the dataset. This formula will give us the z-score, which represents the number of standard deviations the observation is from the mean.\n",
    "\n",
    "So, in this case, we have:\n",
    "\n",
    "x = 60\n",
    "μ = 50\n",
    "σ = 10\n",
    "\n",
    "Using the formula, we can calculate the z-score:\n",
    "\n",
    "z = (x - μ) / σ = (60 - 50) / 10 = 1\n",
    "\n",
    "Now, we need to find the probability that a randomly selected observation will be greater than 60, which is the same as finding the area under the standard normal distribution curve to the right of the z-score of 1.\n",
    "\n",
    "We can use a standard normal distribution table or a calculator to find this probability. Using a calculator, we can use the standard normal cumulative distribution function with a mean of 0 and a standard deviation of 1:\n",
    "\n",
    "P(z > 1) = 1 - P(z < 1) = 1 - 0.8413 = 0.1587\n",
    "\n",
    "Therefore, the probability that a randomly selected observation from this dataset will be greater than 60 is 0.1587, or about 16%."
   ]
  },
  {
   "cell_type": "markdown",
   "id": "0149e5a7-46d9-4143-a805-f59862e10a99",
   "metadata": {},
   "source": [
    "# question 7\n",
    "In statistics, uniform distribution is a term used to describe a form of probability distribution where every possible outcome has an equal likelihood of happening. The probability is constant since each variable has equal chances of being the outcome.\n",
    "\n",
    "For example, if you stand on a street corner and start to randomly hand a 100 dollar bill to any lucky person who walks by, then every passerby would have an equal chance of being handed the money. The percentage of the probability is 1 divided by the total number of outcomes (number of passersby). However, if you favored short people or women, they would have a higher chance of being given the $100 bill than the other passersby. It would not be described as uniform probability."
   ]
  },
  {
   "cell_type": "markdown",
   "id": "e4784b8c-f39f-4355-8f2a-0cf2e4949f08",
   "metadata": {},
   "source": [
    "# question 8\n",
    "A z-score is an example of a standardized score. A z-score measures how many standard deviations a data point is from the mean in a distribution.\n",
    "\n",
    "Z scores allows communication researchers to make comparisons across data derived from different normally distributed samples. In other words, z scores standardize raw data from two or more samples. Second, z scores enable researchers to calculate the probability of a score in a normal distribution.\n"
   ]
  },
  {
   "cell_type": "markdown",
   "id": "2e004fa0-7477-4ca8-9861-43226a3df8ad",
   "metadata": {},
   "source": [
    "# question 9\n",
    "Central limit theorem is a statistical theory which states that when the large sample size has a finite variance, the samples will be normally distributed and the mean of samples will be approximately equal to the mean of the whole population.\n",
    "\n",
    "In other words, the central limit theorem states that for any population with mean and standard deviation, the distribution of the sample mean for sample size N has mean μ and standard deviation σ / √n .\n",
    "\n",
    "The Central Limit Theorem is important for statistics because it allows us to safely assume that the sampling distribution of the mean will be normal in most cases. This means that we can take advantage of statistical techniques that assume a normal distribution"
   ]
  },
  {
   "cell_type": "markdown",
   "id": "7de5b1fa-d25f-4492-9893-04d08711c642",
   "metadata": {},
   "source": [
    "# question 10\n",
    "\n",
    "Assumptions of Central Limit Theorem are :-\n",
    "\n",
    "The sample should be drawn randomly following the condition of randomization.\n",
    "\n",
    "The samples drawn should be independent of each other. They should not influence the other samples.\n",
    "\n",
    "When the sampling is done without replacement, the sample size shouldn’t exceed 10% of the total population.\n",
    "\n",
    "The sample size should be sufficiently large."
   ]
  },
  {
   "cell_type": "code",
   "execution_count": null,
   "id": "1c83419c-1b80-44b8-81f7-68a5adb36a69",
   "metadata": {},
   "outputs": [],
   "source": []
  }
 ],
 "metadata": {
  "kernelspec": {
   "display_name": "Python 3 (ipykernel)",
   "language": "python",
   "name": "python3"
  },
  "language_info": {
   "codemirror_mode": {
    "name": "ipython",
    "version": 3
   },
   "file_extension": ".py",
   "mimetype": "text/x-python",
   "name": "python",
   "nbconvert_exporter": "python",
   "pygments_lexer": "ipython3",
   "version": "3.10.8"
  }
 },
 "nbformat": 4,
 "nbformat_minor": 5
}
